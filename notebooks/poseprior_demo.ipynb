{
 "cells": [
  {
   "cell_type": "markdown",
   "metadata": {},
   "source": [
    "# PosePrior Demo\n",
    "\n",
    "This notebook contains code to convert `PosePrior` as implemented in \"Learning to Estimate 3D Hand Pose from Single RGB Images\" by Zimmerman et al. Their project is available at [https://github.com/lmb-freiburg/hand3d]."
   ]
  },
  {
   "cell_type": "code",
   "execution_count": 2,
   "metadata": {},
   "outputs": [],
   "source": [
    "import os\n",
    "import sys\n",
    "import math\n",
    "\n",
    "import torch\n",
    "import torchvision\n",
    "import torch.nn.functional as F\n",
    "import pickle\n",
    "import tensorflow as tf\n",
    "import matplotlib.pyplot as plt\n",
    "from mpl_toolkits.mplot3d import Axes3D\n",
    "from PIL import Image\n",
    "\n",
    "model_path = os.path.abspath(os.path.join('..'))\n",
    "if model_path not in sys.path:\n",
    "    sys.path.append(model_path)\n",
    "    \n",
    "from colorhandpose3d.model.HandSegNet import HandSegNet\n",
    "from colorhandpose3d.model.PoseNet import PoseNet\n",
    "from colorhandpose3d.model.PosePrior import PosePrior\n",
    "from colorhandpose3d.model.ViewPoint import ViewPoint\n",
    "from colorhandpose3d.utils.general import *"
   ]
  },
  {
   "cell_type": "markdown",
   "metadata": {},
   "source": [
    "## Initialize Models\n",
    "\n",
    "`PosePrior` depends on the output of `HandSegNet`+`PoseNet`. First define the required models."
   ]
  },
  {
   "cell_type": "code",
   "execution_count": 3,
   "metadata": {},
   "outputs": [],
   "source": [
    "handsegnet = HandSegNet()\n",
    "posenet = PoseNet()\n",
    "poseprior = PosePrior()\n",
    "\n",
    "handsegnet.load_state_dict(torch.load('/home/ajdillhoff/dev/projects/colorhandpose3d-pytorch/saved/handsegnet.pth.tar'))\n",
    "posenet.load_state_dict(torch.load('/home/ajdillhoff/dev/projects/colorhandpose3d-pytorch/saved/posenet.pth.tar'))"
   ]
  },
  {
   "cell_type": "markdown",
   "metadata": {},
   "source": [
    "## Import weights from Tensorflow model\n",
    "\n",
    "The weights are saved in `pickle` format from the Tensorflow model."
   ]
  },
  {
   "cell_type": "code",
   "execution_count": 4,
   "metadata": {},
   "outputs": [
    {
     "name": "stdout",
     "output_type": "stream",
     "text": [
      "PosePrior/conv_pose_0_1/biases (32,)\n",
      "PosePrior/conv_pose_0_1/weights (3, 3, 21, 32)\n",
      "PosePrior/conv_pose_0_2/biases (32,)\n",
      "PosePrior/conv_pose_0_2/weights (3, 3, 32, 32)\n",
      "PosePrior/conv_pose_1_1/biases (64,)\n",
      "PosePrior/conv_pose_1_1/weights (3, 3, 32, 64)\n",
      "PosePrior/conv_pose_1_2/biases (64,)\n",
      "PosePrior/conv_pose_1_2/weights (3, 3, 64, 64)\n",
      "PosePrior/conv_pose_2_1/biases (128,)\n",
      "PosePrior/conv_pose_2_1/weights (3, 3, 64, 128)\n",
      "PosePrior/conv_pose_2_2/biases (128,)\n",
      "PosePrior/conv_pose_2_2/weights (3, 3, 128, 128)\n",
      "PosePrior/fc_rel0/biases (512,)\n",
      "PosePrior/fc_rel0/weights (2050, 512)\n",
      "PosePrior/fc_rel1/biases (512,)\n",
      "PosePrior/fc_rel1/weights (512, 512)\n",
      "PosePrior/fc_xyz/biases (63,)\n",
      "PosePrior/fc_xyz/weights (512, 63)\n"
     ]
    }
   ],
   "source": [
    "file_name = '/home/ajdillhoff/Downloads/ColorHandPose3D_data_v3/weights/posenet3d-rhd-stb-slr-finetuned.pickle'\n",
    "session = tf.Session()\n",
    "exclude_var_list = list()\n",
    "\n",
    "# read from pickle file\n",
    "with open(file_name, 'rb') as fi:\n",
    "    weight_dict = pickle.load(fi)\n",
    "    weight_dict = {k: v for k, v in weight_dict.items() if not any([x in k for x in exclude_var_list])}\n",
    "    \n",
    "keys = [k for k, v in weight_dict.items() if 'PosePrior' in k]\n",
    "keys.sort()\n",
    "\n",
    "[print(k, weight_dict[k].shape) for k in keys]\n",
    "    \n",
    "for name, module in poseprior.named_children():\n",
    "    key = 'PosePrior/{0}/'.format(name)\n",
    "    if key + 'biases' in weight_dict:\n",
    "        b = torch.tensor(weight_dict[key + 'biases'])\n",
    "        w = torch.tensor(weight_dict[key + 'weights'])\n",
    "        if len(w.shape) == 4:\n",
    "            w = w.permute((3, 2, 0, 1))\n",
    "        else:\n",
    "            w = w.permute(1, 0)\n",
    "        w = torch.nn.Parameter(w)\n",
    "        b = torch.nn.Parameter(b)\n",
    "        module.weight.data = w\n",
    "        module.bias.data = b\n",
    "        \n",
    "torch.save(poseprior.state_dict(), '/home/ajdillhoff/dev/projects/colorhandpose3d-pytorch/saved/poseprior.pth.tar')"
   ]
  },
  {
   "cell_type": "markdown",
   "metadata": {},
   "source": [
    "## Load and run sample\n",
    "\n",
    "Run a sample through the network."
   ]
  },
  {
   "cell_type": "code",
   "execution_count": 4,
   "metadata": {},
   "outputs": [
    {
     "name": "stdout",
     "output_type": "stream",
     "text": [
      "torch.Size([1, 21, 32, 32])\n"
     ]
    }
   ],
   "source": [
    "transform0 = torchvision.transforms.ToPILImage()\n",
    "transform1 = torchvision.transforms.ToTensor()\n",
    "transform2 = torchvision.transforms.Resize(256)\n",
    "img = Image.open('/home/ajdillhoff/Downloads/RHD_v1-1/RHD_published_v2/training/color/00007.png')\n",
    "sample_original = transform1(img).unsqueeze(0)\n",
    "sample = sample_original - 0.5\n",
    "\n",
    "# Run through network\n",
    "output = handsegnet.forward(sample)\n",
    "\n",
    "# Calculate single highest scoring object\n",
    "test_output = single_obj_scoremap(output, 21)\n",
    "\n",
    "# Crop and resize\n",
    "centers, bbs, crops = calc_center_bb(test_output)\n",
    "crops = crops.to(torch.float32)\n",
    "crop_size = 256\n",
    "\n",
    "crops[0] *= 1.25\n",
    "scale_crop = min(max(crop_size / crops[0], 0.25), 5.0)\n",
    "image_crop = crop_image_from_xy(sample_original, centers, crop_size, scale_crop)\n",
    "mask_crop = crop_image_from_xy(test_output, centers, crop_size, scale_crop)\n",
    "\n",
    "# also take a sample crop with mean subtracted\n",
    "sample_crop = crop_image_from_xy(sample, centers, crop_size, scale_crop)\n",
    "\n",
    "# PoseNet\n",
    "keypoints_scoremap = posenet(sample_crop)\n",
    "print(keypoints_scoremap.shape)"
   ]
  },
  {
   "cell_type": "markdown",
   "metadata": {},
   "source": [
    "### PosePrior Network\n",
    "\n",
    "PosePrior takes as input the keypoints scoremap and outputs the coordinates in 3D space."
   ]
  },
  {
   "cell_type": "code",
   "execution_count": 5,
   "metadata": {},
   "outputs": [
    {
     "name": "stdout",
     "output_type": "stream",
     "text": [
      "(1, 32, 32, 21)\n",
      "(1, 21, 32, 32)\n",
      "padding x to shape torch.Size([1, 32, 33, 33])\n",
      "padding x to shape torch.Size([1, 64, 17, 17])\n",
      "padding x to shape torch.Size([1, 128, 9, 9])\n",
      "tensor([[[-3.8152e-06,  5.2241e-06,  1.0315e-05],\n",
      "         [-7.9767e-01, -2.0001e+00, -1.3244e+00],\n",
      "         [-8.2266e-01, -1.2363e+00, -1.2276e+00],\n",
      "         [-9.9925e-01, -3.5246e-01, -1.0125e+00],\n",
      "         [-6.3933e-01,  5.8538e-01, -5.4261e-01],\n",
      "         [-4.0058e-01, -9.3790e-01, -1.4488e+00],\n",
      "         [-4.0186e-01, -1.4974e+00, -1.2945e+00],\n",
      "         [-4.6800e-01, -1.9424e+00, -7.4978e-01],\n",
      "         [-6.4250e-01, -1.3152e+00, -1.8032e-01],\n",
      "         [ 1.1082e-01, -7.4581e-01, -1.2703e+00],\n",
      "         [ 2.0779e-01, -1.3738e+00, -1.1546e+00],\n",
      "         [ 1.8397e-01, -1.9609e+00, -6.9243e-01],\n",
      "         [-3.4278e-06, -1.3699e+00,  5.6983e-06],\n",
      "         [ 5.7475e-01, -4.1017e-01, -9.2737e-01],\n",
      "         [ 7.0800e-01, -1.0786e+00, -9.3877e-01],\n",
      "         [ 7.3963e-01, -1.6430e+00, -5.8048e-01],\n",
      "         [ 5.3416e-01, -1.1840e+00,  5.1548e-02],\n",
      "         [ 1.2865e+00, -7.6508e-01, -9.9956e-01],\n",
      "         [ 1.3581e+00, -1.1256e+00, -9.0281e-01],\n",
      "         [ 1.3740e+00, -1.3847e+00, -5.9903e-01],\n",
      "         [ 1.1216e+00, -8.3846e-01, -5.0342e-06]]],\n",
      "       grad_fn=<AsStridedBackward>)\n"
     ]
    }
   ],
   "source": [
    "hand_side = torch.Tensor([[0.0, 1.0]])\n",
    "\n",
    "# PosePrior\n",
    "keypoints_scoremap_tf = np.load('/home/ajdillhoff/Downloads/keypoints_scoremap_tf.npy')\n",
    "print(keypoints_scoremap_tf.shape)\n",
    "keypoints_scoremap_tf = np.transpose(keypoints_scoremap_tf, (0, 3, 1, 2))\n",
    "print(keypoints_scoremap_tf.shape)\n",
    "keypoints_scoremap_tf = torch.Tensor(keypoints_scoremap_tf)\n",
    "keypoint_coord3d = poseprior(keypoints_scoremap_tf, hand_side)\n",
    "print(keypoint_coord3d)"
   ]
  },
  {
   "cell_type": "markdown",
   "metadata": {},
   "source": [
    "### Viewpoint network\n",
    "\n",
    "The final network in Zimmerman et al.'s approach estimates the rotation parameters to transform the canonical coordinates to real coordinates."
   ]
  },
  {
   "cell_type": "code",
   "execution_count": 6,
   "metadata": {},
   "outputs": [],
   "source": [
    "viewpoint = ViewPoint()"
   ]
  },
  {
   "cell_type": "code",
   "execution_count": 7,
   "metadata": {},
   "outputs": [
    {
     "name": "stdout",
     "output_type": "stream",
     "text": [
      "loading layer: conv_vp_0_1\n",
      "ViewpointNet/conv_vp_0_1/\n",
      "torch.Size([64]) torch.Size([3, 3, 21, 64])\n",
      "loading layer: conv_vp_0_2\n",
      "ViewpointNet/conv_vp_0_2/\n",
      "torch.Size([64]) torch.Size([3, 3, 64, 64])\n",
      "loading layer: conv_vp_1_1\n",
      "ViewpointNet/conv_vp_1_1/\n",
      "torch.Size([128]) torch.Size([3, 3, 64, 128])\n",
      "loading layer: conv_vp_1_2\n",
      "ViewpointNet/conv_vp_1_2/\n",
      "torch.Size([128]) torch.Size([3, 3, 128, 128])\n",
      "loading layer: conv_vp_2_1\n",
      "ViewpointNet/conv_vp_2_1/\n",
      "torch.Size([256]) torch.Size([3, 3, 128, 256])\n",
      "loading layer: conv_vp_2_2\n",
      "ViewpointNet/conv_vp_2_2/\n",
      "torch.Size([256]) torch.Size([3, 3, 256, 256])\n",
      "loading layer: fc_vp0\n",
      "ViewpointNet/fc_vp0/\n",
      "torch.Size([256]) torch.Size([4098, 256])\n",
      "loading layer: fc_vp1\n",
      "ViewpointNet/fc_vp1/\n",
      "torch.Size([128]) torch.Size([256, 128])\n",
      "loading layer: fc_vp_ux\n",
      "ViewpointNet/fc_vp_ux/\n",
      "torch.Size([1]) torch.Size([128, 1])\n",
      "loading layer: fc_vp_uy\n",
      "ViewpointNet/fc_vp_uy/\n",
      "torch.Size([1]) torch.Size([128, 1])\n",
      "loading layer: fc_vp_uz\n",
      "ViewpointNet/fc_vp_uz/\n",
      "torch.Size([1]) torch.Size([128, 1])\n"
     ]
    }
   ],
   "source": [
    "file_name = '/home/ajdillhoff/Downloads/ColorHandPose3D_data_v3/weights/posenet3d-rhd-stb-slr-finetuned.pickle'\n",
    "session = tf.Session()\n",
    "exclude_var_list = list()\n",
    "\n",
    "# read from pickle file\n",
    "with open(file_name, 'rb') as fi:\n",
    "    weight_dict = pickle.load(fi)\n",
    "    weight_dict = {k: v for k, v in weight_dict.items() if not any([x in k for x in exclude_var_list])}\n",
    "    \n",
    "keys = [k for k, v in weight_dict.items() if 'ViewpointNet' in k]\n",
    "keys.sort()\n",
    "\n",
    "# [print(k, weight_dict[k].shape) for k, v in weight_dict.items()]\n",
    "    \n",
    "for name, module in viewpoint.named_children():\n",
    "    key = 'ViewpointNet/{0}/'.format(name)\n",
    "    if key + 'biases' in weight_dict:\n",
    "        print('loading layer: {0}'.format(name))\n",
    "        print(key)\n",
    "        b = torch.Tensor(weight_dict[key + 'biases'])\n",
    "        w = torch.Tensor(weight_dict[key + 'weights'])\n",
    "        print(b.shape, w.shape)\n",
    "        \n",
    "        # tf conv2d is [kH x kW x inputC x outputC]\n",
    "        # pytorch conv2d is [outputC x inputC x kH x KW]\n",
    "        # tf fully connected is [inputC x outputC]\n",
    "        # pytorch fully connected is [outputC x inputC]\n",
    "        if len(w.shape) == 4:\n",
    "            w = w.permute((3, 2, 0, 1))\n",
    "        else:\n",
    "            w = w.t()\n",
    "        module.weight.data = w\n",
    "        module.bias.data = b\n",
    "        \n",
    "torch.save(viewpoint.state_dict(), '/home/ajdillhoff/dev/projects/colorhandpose3d-pytorch/saved/viewpoint.pth.tar')"
   ]
  },
  {
   "cell_type": "code",
   "execution_count": 8,
   "metadata": {},
   "outputs": [
    {
     "name": "stdout",
     "output_type": "stream",
     "text": [
      "(1, 32, 32, 21)\n",
      "(1, 21, 32, 32)\n",
      "padding x to shape torch.Size([1, 21, 34, 34])\n",
      "padding x to shape torch.Size([1, 64, 33, 33])\n",
      "padding x to shape torch.Size([1, 64, 18, 18])\n",
      "padding x to shape torch.Size([1, 128, 17, 17])\n",
      "padding x to shape torch.Size([1, 128, 10, 10])\n",
      "padding x to shape torch.Size([1, 256, 9, 9])\n",
      "rot_params: tensor([[-1.8129, -0.5677, -2.0467]], grad_fn=<CatBackward>)\n"
     ]
    }
   ],
   "source": [
    "keypoints_scoremap_tf = np.load('/home/ajdillhoff/Downloads/keypoints_scoremap_tf.npy')\n",
    "print(keypoints_scoremap_tf.shape)\n",
    "keypoints_scoremap_tf = np.transpose(keypoints_scoremap_tf, (0, 3, 1, 2))\n",
    "print(keypoints_scoremap_tf.shape)\n",
    "keypoints_scoremap_tf = torch.Tensor(keypoints_scoremap_tf)\n",
    "rot_params = viewpoint(keypoints_scoremap, torch.Tensor([[0.0, 1.0]]))\n",
    "print('rot_params: {0}'.format(rot_params))"
   ]
  },
  {
   "cell_type": "markdown",
   "metadata": {},
   "source": [
    "## Convert ViewPoint output to transformation matrix\n",
    "\n",
    "The axis-angle parameters output by the ViewPoint network need to be converted to a transformation matrix."
   ]
  },
  {
   "cell_type": "code",
   "execution_count": 9,
   "metadata": {},
   "outputs": [],
   "source": [
    "def get_rotation_matrix(rot_params):\n",
    "    \"\"\"Converts axis-angle parameters to a rotation matrix.\n",
    "    \n",
    "    The axis-angle parameters have an encoded angle.\n",
    "    \n",
    "    Args:\n",
    "        rot_params - Tensor (batch x 3): ux, uy, uz axis-angle parameters.\n",
    "        \n",
    "    Returns:\n",
    "        rot_matrix - Tensor (batch x 3 x 3): Rotation matrices.\n",
    "    \"\"\"\n",
    "    \n",
    "    theta = rot_params.norm(dim=1)\n",
    "    \n",
    "    st = torch.sin(theta)\n",
    "    ct = torch.cos(theta)\n",
    "    one_ct = 1.0 - torch.cos(theta)\n",
    "    \n",
    "    norm_fac = 1.0 / theta\n",
    "    ux = rot_params[:, 0] * norm_fac\n",
    "    uy = rot_params[:, 1] * norm_fac\n",
    "    uz = rot_params[:, 2] * norm_fac\n",
    "    \n",
    "    top = torch.stack((ct + ux * ux * one_ct, ux * uy * one_ct - uz * st, ux * uz * one_ct + uy * st), dim=1)\n",
    "    mid = torch.stack((uy * ux * one_ct + uz * st, ct + uy * uy * one_ct, uy * uz * one_ct - ux * st), dim=1)\n",
    "    bot = torch.stack((uz * ux * one_ct - uy * st, uz * uy * one_ct + ux * st, ct + uz * uz * one_ct), dim=1)\n",
    "    \n",
    "    rot_matrix = torch.stack((top, mid, bot), dim=1)\n",
    "    return rot_matrix\n",
    "\n",
    "\n",
    "def flip_right_hand(coords_xyz_canonical, cond_right):\n",
    "    \"\"\"Flips the given canonical coordinates, when cond_right is true.\n",
    "    \n",
    "    The returned coordinates represent those of the left hand.\n",
    "    \n",
    "    Args:\n",
    "        coords_xyz_canonical - Tensor (batch x 3 x num_keypoints): Coordinates for each keypoint.\n",
    "        cond_right - Tensor (batch x 3 x num_keypoints): Values are 0 or 1 depending on if the keypoints\n",
    "            represent the right hand.\n",
    "            \n",
    "    Returns:\n",
    "        coords_xyz_canonical_left - Tensor (batch x 3 x num_keypoints): Resulting coordinates. Remain\n",
    "            unchanged if cond_right is False.\n",
    "    \"\"\"\n",
    "    \n",
    "    s = coords_xyz_canonical.shape\n",
    "    assert len(s) == 3, \"coords_xyz_canonical must be (batch x 3 x num_keypoints).\"\n",
    "    assert len(cond_right.shape) == 3, \"cond_right must be (batch x 3 x num_keypoints).\"\n",
    "    \n",
    "    coords_xyz_canonical_mirrored = coords_xyz_canonical\n",
    "    coords_xyz_canonical_mirrored[:, :, 2] *= -1.\n",
    "    \n",
    "    coords_xyz_canonical_left = torch.where(cond_right, coords_xyz_canonical_mirrored, coords_xyz_canonical)\n",
    "    \n",
    "    return coords_xyz_canonical_left"
   ]
  },
  {
   "cell_type": "code",
   "execution_count": 10,
   "metadata": {},
   "outputs": [
    {
     "name": "stdout",
     "output_type": "stream",
     "text": [
      "tensor([[[-0.1221,  0.5067,  0.8534],\n",
      "         [ 0.0053, -0.8595,  0.5111],\n",
      "         [ 0.9925,  0.0669,  0.1023]]], grad_fn=<StackBackward>)\n"
     ]
    }
   ],
   "source": [
    "rot_matrix = get_rotation_matrix(rot_params)\n",
    "print(rot_matrix)"
   ]
  },
  {
   "cell_type": "markdown",
   "metadata": {},
   "source": [
    "### Normalized 3D coordinates\n",
    "\n",
    "With the rotation matrices, the normalized 3D coordinates can be computed."
   ]
  },
  {
   "cell_type": "code",
   "execution_count": 11,
   "metadata": {},
   "outputs": [
    {
     "name": "stdout",
     "output_type": "stream",
     "text": [
      "torch.Size([1])\n",
      "torch.Size([1, 21, 3])\n",
      "torch.Size([1, 21, 3])\n",
      "tensor([[-0.0000, -0.0000, -0.0000],\n",
      "        [ 1.4014,  1.4036, -1.5675],\n",
      "        [ 1.3123,  0.7279, -1.2083],\n",
      "        [ 1.1251, -0.1356, -0.9293],\n",
      "        [ 0.6197, -0.7908, -0.1909],\n",
      "        [ 1.4819,  0.7001, -0.6730],\n",
      "        [ 1.3260,  1.1700, -0.9758],\n",
      "        [ 0.7911,  1.4826, -1.3154],\n",
      "        [ 0.2505,  0.8169, -1.2020],\n",
      "        [ 1.2433,  0.7822, -0.1566],\n",
      "        [ 1.1133,  1.3634, -0.4067],\n",
      "        [ 0.6544,  1.8250, -0.7743],\n",
      "        [-0.0072,  1.1775, -0.7001],\n",
      "        [ 0.8481,  0.7058,  0.3758],\n",
      "        [ 0.8396,  1.3486,  0.1490],\n",
      "        [ 0.4771,  1.8258, -0.1491],\n",
      "        [-0.1226,  1.2849, -0.1545],\n",
      "        [ 0.8309,  1.3764,  0.8092],\n",
      "        [ 0.7242,  1.7161,  0.6761],\n",
      "        [ 0.4194,  1.9265,  0.5262],\n",
      "        [-0.1414,  1.2890,  0.5287]], grad_fn=<SelectBackward>)\n"
     ]
    }
   ],
   "source": [
    "cond_right = torch.eq(torch.argmax(hand_side, 1), 1)\n",
    "cond_right_all = torch.reshape(cond_right, [-1, 1, 1]).repeat(1, 21, 3)\n",
    "coords_xyz_can_flip = flip_right_hand(keypoint_coord3d, cond_right_all)\n",
    "coords_xyz_rel_normed = coords_xyz_can_flip @ rot_matrix\n",
    "print(cond_right.shape)\n",
    "print(cond_right_all.shape)\n",
    "print(coords_xyz_can_flip.shape)\n",
    "\n",
    "print(coords_xyz_rel_normed[0])"
   ]
  },
  {
   "cell_type": "markdown",
   "metadata": {},
   "source": [
    "## Visualize the result\n",
    "\n",
    "Now that the 3D coordinates are calculated, the result can be visualized."
   ]
  },
  {
   "cell_type": "code",
   "execution_count": 12,
   "metadata": {},
   "outputs": [],
   "source": [
    "def plot_hand_3d(coords_xyz, axis, color_fixed=None, linewidth='1'):\n",
    "    \"\"\"Plots a hand stick figure into a matplotlib figure. \"\"\"\n",
    "    colors = np.array([[0., 0., 0.5],\n",
    "                       [0., 0., 0.73172906],\n",
    "                       [0., 0., 0.96345811],\n",
    "                       [0., 0.12745098, 1.],\n",
    "                       [0., 0.33137255, 1.],\n",
    "                       [0., 0.55098039, 1.],\n",
    "                       [0., 0.75490196, 1.],\n",
    "                       [0.06008855, 0.9745098, 0.90765338],\n",
    "                       [0.22454143, 1., 0.74320051],\n",
    "                       [0.40164453, 1., 0.56609741],\n",
    "                       [0.56609741, 1., 0.40164453],\n",
    "                       [0.74320051, 1., 0.22454143],\n",
    "                       [0.90765338, 1., 0.06008855],\n",
    "                       [1., 0.82861293, 0.],\n",
    "                       [1., 0.63979666, 0.],\n",
    "                       [1., 0.43645606, 0.],\n",
    "                       [1., 0.2476398, 0.],\n",
    "                       [0.96345811, 0.0442992, 0.],\n",
    "                       [0.73172906, 0., 0.],\n",
    "                       [0.5, 0., 0.]])\n",
    "\n",
    "    # define connections and colors of the bones\n",
    "    bones = [((0, 4), colors[0, :]),\n",
    "             ((4, 3), colors[1, :]),\n",
    "             ((3, 2), colors[2, :]),\n",
    "             ((2, 1), colors[3, :]),\n",
    "\n",
    "             ((0, 8), colors[4, :]),\n",
    "             ((8, 7), colors[5, :]),\n",
    "             ((7, 6), colors[6, :]),\n",
    "             ((6, 5), colors[7, :]),\n",
    "\n",
    "             ((0, 12), colors[8, :]),\n",
    "             ((12, 11), colors[9, :]),\n",
    "             ((11, 10), colors[10, :]),\n",
    "             ((10, 9), colors[11, :]),\n",
    "\n",
    "             ((0, 16), colors[12, :]),\n",
    "             ((16, 15), colors[13, :]),\n",
    "             ((15, 14), colors[14, :]),\n",
    "             ((14, 13), colors[15, :]),\n",
    "\n",
    "             ((0, 20), colors[16, :]),\n",
    "             ((20, 19), colors[17, :]),\n",
    "             ((19, 18), colors[18, :]),\n",
    "             ((18, 17), colors[19, :])]\n",
    "\n",
    "    for connection, color in bones:\n",
    "        coord1 = coords_xyz[connection[0], :]\n",
    "        coord2 = coords_xyz[connection[1], :]\n",
    "        coords = np.stack([coord1, coord2])\n",
    "        if color_fixed is None:\n",
    "            axis.plot(coords[:, 0], coords[:, 1], coords[:, 2], color=color, linewidth=linewidth)\n",
    "        else:\n",
    "            axis.plot(coords[:, 0], coords[:, 1], coords[:, 2], color_fixed, linewidth=linewidth)\n",
    "\n",
    "#     axis.view_init(azim=-90., elev=90.)"
   ]
  },
  {
   "cell_type": "code",
   "execution_count": 13,
   "metadata": {},
   "outputs": [
    {
     "data": {
      "image/png": "[encoded data removed]",
      "text/plain": [
       "<Figure size 1152x1152 with 1 Axes>"
      ]
     },
     "metadata": {},
     "output_type": "display_data"
    }
   ],
   "source": [
    "fig = plt.figure(1, figsize=(16, 16))\n",
    "ax1 = fig.add_subplot(111, projection='3d')\n",
    "keypoint_coords3d = coords_xyz_rel_normed.detach().numpy()\n",
    "keypoint_coords3d = keypoint_coords3d.squeeze()\n",
    "plot_hand_3d(keypoint_coords3d, ax1)\n",
    "ax1.view_init(azim=-90.0, elev=-90.0)\n",
    "ax1.set_xlim([-3, 3])\n",
    "ax1.set_ylim([-3, 1])\n",
    "ax1.set_zlim([-3, 3])\n",
    "plt.show()"
   ]
  }
 ],
 "metadata": {
  "kernelspec": {
   "display_name": "Python [conda env:pytorch36]",
   "language": "python",
   "name": "conda-env-pytorch36-py"
  },
  "language_info": {
   "codemirror_mode": {
    "name": "ipython",
    "version": 3
   },
   "file_extension": ".py",
   "mimetype": "text/x-python",
   "name": "python",
   "nbconvert_exporter": "python",
   "pygments_lexer": "ipython3",
   "version": "3.6.6"
  }
 },
 "nbformat": 4,
 "nbformat_minor": 2
}

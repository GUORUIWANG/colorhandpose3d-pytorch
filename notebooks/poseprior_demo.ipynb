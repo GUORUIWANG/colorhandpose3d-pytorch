{
 "cells": [
  {
   "cell_type": "markdown",
   "metadata": {},
   "source": [
    "# PosePrior Demo\n",
    "\n",
    "This notebook contains code to convert `PosePrior` as implemented in \"Learning to Estimate 3D Hand Pose from Single RGB Images\" by Zimmerman et al. Their project is available at [https://github.com/lmb-freiburg/hand3d]."
   ]
  },
  {
   "cell_type": "code",
   "execution_count": 12,
   "metadata": {},
   "outputs": [],
   "source": [
    "import os\n",
    "import sys\n",
    "import math\n",
    "\n",
    "import torch\n",
    "import torchvision\n",
    "import torch.nn.functional as F\n",
    "import pickle\n",
    "import tensorflow as tf\n",
    "import matplotlib.pyplot as plt\n",
    "from mpl_toolkits.mplot3d import Axes3D\n",
    "from PIL import Image\n",
    "\n",
    "model_path = os.path.abspath(os.path.join('..'))\n",
    "if model_path not in sys.path:\n",
    "    sys.path.append(model_path)\n",
    "    \n",
    "from colorhandpose3d.model.HandSegNet import HandSegNet\n",
    "from colorhandpose3d.model.PoseNet import PoseNet\n",
    "from colorhandpose3d.model.PosePrior import PosePrior\n",
    "from colorhandpose3d.model.ViewPoint import ViewPoint\n",
    "from colorhandpose3d.utils.general import *\n",
    "from colorhandpose3d.utils.transforms import flip_right_hand, get_rotation_matrix"
   ]
  },
  {
   "cell_type": "markdown",
   "metadata": {},
   "source": [
    "## Initialize Models\n",
    "\n",
    "`PosePrior` depends on the output of `HandSegNet`+`PoseNet`. First define the required models."
   ]
  },
  {
   "cell_type": "code",
   "execution_count": 2,
   "metadata": {},
   "outputs": [],
   "source": [
    "handsegnet = HandSegNet()\n",
    "posenet = PoseNet()\n",
    "poseprior = PosePrior()\n",
    "\n",
    "handsegnet.load_state_dict(torch.load('/home/alex/dev/projects/colorhandpose3d-pytorch/saved/handsegnet.pth.tar'))\n",
    "posenet.load_state_dict(torch.load('/home/alex/dev/projects/colorhandpose3d-pytorch/saved/posenet.pth.tar'))"
   ]
  },
  {
   "cell_type": "markdown",
   "metadata": {},
   "source": [
    "## Import weights from Tensorflow model\n",
    "\n",
    "The weights are saved in `pickle` format from the Tensorflow model."
   ]
  },
  {
   "cell_type": "code",
   "execution_count": 3,
   "metadata": {},
   "outputs": [
    {
     "name": "stdout",
     "output_type": "stream",
     "text": [
      "PosePrior/conv_pose_0_1/biases (32,)\n",
      "PosePrior/conv_pose_0_1/weights (3, 3, 21, 32)\n",
      "PosePrior/conv_pose_0_2/biases (32,)\n",
      "PosePrior/conv_pose_0_2/weights (3, 3, 32, 32)\n",
      "PosePrior/conv_pose_1_1/biases (64,)\n",
      "PosePrior/conv_pose_1_1/weights (3, 3, 32, 64)\n",
      "PosePrior/conv_pose_1_2/biases (64,)\n",
      "PosePrior/conv_pose_1_2/weights (3, 3, 64, 64)\n",
      "PosePrior/conv_pose_2_1/biases (128,)\n",
      "PosePrior/conv_pose_2_1/weights (3, 3, 64, 128)\n",
      "PosePrior/conv_pose_2_2/biases (128,)\n",
      "PosePrior/conv_pose_2_2/weights (3, 3, 128, 128)\n",
      "PosePrior/fc_rel0/biases (512,)\n",
      "PosePrior/fc_rel0/weights (2050, 512)\n",
      "PosePrior/fc_rel1/biases (512,)\n",
      "PosePrior/fc_rel1/weights (512, 512)\n",
      "PosePrior/fc_xyz/biases (63,)\n",
      "PosePrior/fc_xyz/weights (512, 63)\n"
     ]
    }
   ],
   "source": [
    "file_name = '/home/alex/dev/projects/hand3d-master/weights/posenet3d-rhd-stb-slr-finetuned.pickle'\n",
    "session = tf.Session()\n",
    "exclude_var_list = list()\n",
    "\n",
    "# read from pickle file\n",
    "with open(file_name, 'rb') as fi:\n",
    "    weight_dict = pickle.load(fi)\n",
    "    weight_dict = {k: v for k, v in weight_dict.items() if not any([x in k for x in exclude_var_list])}\n",
    "    \n",
    "keys = [k for k, v in weight_dict.items() if 'PosePrior' in k]\n",
    "keys.sort()\n",
    "\n",
    "[print(k, weight_dict[k].shape) for k in keys]\n",
    "    \n",
    "for name, module in poseprior.named_children():\n",
    "    key = 'PosePrior/{0}/'.format(name)\n",
    "    if key + 'biases' in weight_dict:\n",
    "        b = torch.tensor(weight_dict[key + 'biases'])\n",
    "        w = torch.tensor(weight_dict[key + 'weights'])\n",
    "        if len(w.shape) == 4:\n",
    "            w = w.permute((3, 2, 0, 1))\n",
    "        else:\n",
    "            w = w.permute(1, 0)\n",
    "        w = torch.nn.Parameter(w)\n",
    "        b = torch.nn.Parameter(b)\n",
    "        module.weight.data = w\n",
    "        module.bias.data = b\n",
    "        \n",
    "torch.save(poseprior.state_dict(), '/home/alex/dev/projects/colorhandpose3d-pytorch/saved/poseprior.pth.tar')"
   ]
  },
  {
   "cell_type": "markdown",
   "metadata": {},
   "source": [
    "## Load and run sample\n",
    "\n",
    "Run a sample through the network."
   ]
  },
  {
   "cell_type": "code",
   "execution_count": 5,
   "metadata": {},
   "outputs": [
    {
     "name": "stdout",
     "output_type": "stream",
     "text": [
      "torch.Size([1, 21, 32, 32])\n"
     ]
    }
   ],
   "source": [
    "transform0 = torchvision.transforms.ToPILImage()\n",
    "transform1 = torchvision.transforms.ToTensor()\n",
    "transform2 = torchvision.transforms.Resize(256)\n",
    "img = Image.open('/home/alex/Downloads/RHD_v1-1/RHD_published_v2/training/color/00007.png')\n",
    "sample_original = transform1(img).unsqueeze(0)\n",
    "sample = sample_original - 0.5\n",
    "\n",
    "# Run through network\n",
    "output = handsegnet.forward(sample)\n",
    "\n",
    "# Calculate single highest scoring object\n",
    "test_output = single_obj_scoremap(output, 21)\n",
    "\n",
    "# Crop and resize\n",
    "centers, bbs, crops = calc_center_bb(test_output)\n",
    "crops = crops.to(torch.float32)\n",
    "crop_size = 256\n",
    "\n",
    "crops[0] *= 1.25\n",
    "scale_crop = min(max(crop_size / crops[0], 0.25), 5.0)\n",
    "image_crop = crop_image_from_xy(sample_original, centers, crop_size, scale_crop)\n",
    "mask_crop = crop_image_from_xy(test_output, centers, crop_size, scale_crop)\n",
    "\n",
    "# also take a sample crop with mean subtracted\n",
    "sample_crop = crop_image_from_xy(sample, centers, crop_size, scale_crop)\n",
    "\n",
    "# PoseNet\n",
    "keypoints_scoremap = posenet(sample_crop)\n",
    "print(keypoints_scoremap.shape)"
   ]
  },
  {
   "cell_type": "markdown",
   "metadata": {},
   "source": [
    "### PosePrior Network\n",
    "\n",
    "PosePrior takes as input the keypoints scoremap and outputs the coordinates in 3D space."
   ]
  },
  {
   "cell_type": "code",
   "execution_count": 6,
   "metadata": {},
   "outputs": [
    {
     "name": "stdout",
     "output_type": "stream",
     "text": [
      "tensor([[[-4.2485e-06,  5.3245e-06,  1.0363e-05],\n",
      "         [-8.5616e-01, -2.0435e+00, -1.3043e+00],\n",
      "         [-8.3052e-01, -1.2746e+00, -1.2078e+00],\n",
      "         [-1.0012e+00, -3.7531e-01, -1.0058e+00],\n",
      "         [-6.3541e-01,  5.8354e-01, -5.5206e-01],\n",
      "         [-3.9681e-01, -1.0022e+00, -1.4952e+00],\n",
      "         [-3.9424e-01, -1.5288e+00, -1.3126e+00],\n",
      "         [-4.6639e-01, -1.9452e+00, -7.5317e-01],\n",
      "         [-6.4211e-01, -1.3197e+00, -1.8513e-01],\n",
      "         [ 1.1089e-01, -6.9985e-01, -1.2553e+00],\n",
      "         [ 2.0835e-01, -1.3387e+00, -1.1501e+00],\n",
      "         [ 1.8581e-01, -1.9325e+00, -7.0752e-01],\n",
      "         [-3.3786e-06, -1.3736e+00,  6.1276e-06],\n",
      "         [ 5.6211e-01, -3.6339e-01, -8.8034e-01],\n",
      "         [ 6.9872e-01, -1.0340e+00, -9.2182e-01],\n",
      "         [ 7.3453e-01, -1.6088e+00, -5.9888e-01],\n",
      "         [ 5.3251e-01, -1.1872e+00,  5.2819e-02],\n",
      "         [ 1.2571e+00, -6.5576e-01, -9.8109e-01],\n",
      "         [ 1.3340e+00, -1.0478e+00, -9.1001e-01],\n",
      "         [ 1.3534e+00, -1.3385e+00, -6.2982e-01],\n",
      "         [ 1.1194e+00, -8.4262e-01, -5.1089e-06]]],\n",
      "       grad_fn=<AsStridedBackward>)\n"
     ]
    }
   ],
   "source": [
    "hand_side = torch.Tensor([[0.0, 1.0]])\n",
    "\n",
    "# PosePrior\n",
    "keypoint_coord3d = poseprior(keypoints_scoremap, hand_side)\n",
    "print(keypoint_coord3d)"
   ]
  },
  {
   "cell_type": "markdown",
   "metadata": {},
   "source": [
    "### Viewpoint network\n",
    "\n",
    "The final network in Zimmerman et al.'s approach estimates the rotation parameters to transform the canonical coordinates to real coordinates."
   ]
  },
  {
   "cell_type": "code",
   "execution_count": 7,
   "metadata": {},
   "outputs": [],
   "source": [
    "viewpoint = ViewPoint()"
   ]
  },
  {
   "cell_type": "code",
   "execution_count": 8,
   "metadata": {},
   "outputs": [
    {
     "name": "stdout",
     "output_type": "stream",
     "text": [
      "loading layer: conv_vp_0_1\n",
      "ViewpointNet/conv_vp_0_1/\n",
      "torch.Size([64]) torch.Size([3, 3, 21, 64])\n",
      "loading layer: conv_vp_0_2\n",
      "ViewpointNet/conv_vp_0_2/\n",
      "torch.Size([64]) torch.Size([3, 3, 64, 64])\n",
      "loading layer: conv_vp_1_1\n",
      "ViewpointNet/conv_vp_1_1/\n",
      "torch.Size([128]) torch.Size([3, 3, 64, 128])\n",
      "loading layer: conv_vp_1_2\n",
      "ViewpointNet/conv_vp_1_2/\n",
      "torch.Size([128]) torch.Size([3, 3, 128, 128])\n",
      "loading layer: conv_vp_2_1\n",
      "ViewpointNet/conv_vp_2_1/\n",
      "torch.Size([256]) torch.Size([3, 3, 128, 256])\n",
      "loading layer: conv_vp_2_2\n",
      "ViewpointNet/conv_vp_2_2/\n",
      "torch.Size([256]) torch.Size([3, 3, 256, 256])\n",
      "loading layer: fc_vp0\n",
      "ViewpointNet/fc_vp0/\n",
      "torch.Size([256]) torch.Size([4098, 256])\n",
      "loading layer: fc_vp1\n",
      "ViewpointNet/fc_vp1/\n",
      "torch.Size([128]) torch.Size([256, 128])\n",
      "loading layer: fc_vp_ux\n",
      "ViewpointNet/fc_vp_ux/\n",
      "torch.Size([1]) torch.Size([128, 1])\n",
      "loading layer: fc_vp_uy\n",
      "ViewpointNet/fc_vp_uy/\n",
      "torch.Size([1]) torch.Size([128, 1])\n",
      "loading layer: fc_vp_uz\n",
      "ViewpointNet/fc_vp_uz/\n",
      "torch.Size([1]) torch.Size([128, 1])\n"
     ]
    }
   ],
   "source": [
    "file_name = '/home/alex/dev/projects/hand3d-master/weights/posenet3d-rhd-stb-slr-finetuned.pickle'\n",
    "session = tf.Session()\n",
    "exclude_var_list = list()\n",
    "\n",
    "# read from pickle file\n",
    "with open(file_name, 'rb') as fi:\n",
    "    weight_dict = pickle.load(fi)\n",
    "    weight_dict = {k: v for k, v in weight_dict.items() if not any([x in k for x in exclude_var_list])}\n",
    "    \n",
    "keys = [k for k, v in weight_dict.items() if 'ViewpointNet' in k]\n",
    "keys.sort()\n",
    "\n",
    "# [print(k, weight_dict[k].shape) for k, v in weight_dict.items()]\n",
    "    \n",
    "for name, module in viewpoint.named_children():\n",
    "    key = 'ViewpointNet/{0}/'.format(name)\n",
    "    if key + 'biases' in weight_dict:\n",
    "        print('loading layer: {0}'.format(name))\n",
    "        print(key)\n",
    "        b = torch.Tensor(weight_dict[key + 'biases'])\n",
    "        w = torch.Tensor(weight_dict[key + 'weights'])\n",
    "        print(b.shape, w.shape)\n",
    "        \n",
    "        # tf conv2d is [kH x kW x inputC x outputC]\n",
    "        # pytorch conv2d is [outputC x inputC x kH x KW]\n",
    "        # tf fully connected is [inputC x outputC]\n",
    "        # pytorch fully connected is [outputC x inputC]\n",
    "        if len(w.shape) == 4:\n",
    "            w = w.permute((3, 2, 0, 1))\n",
    "        else:\n",
    "            w = w.t()\n",
    "        module.weight.data = w\n",
    "        module.bias.data = b\n",
    "        \n",
    "torch.save(viewpoint.state_dict(), '/home/alex/dev/projects/colorhandpose3d-pytorch/saved/viewpoint.pth.tar')"
   ]
  },
  {
   "cell_type": "code",
   "execution_count": 9,
   "metadata": {},
   "outputs": [
    {
     "name": "stdout",
     "output_type": "stream",
     "text": [
      "rot_params: tensor([[-1.8129, -0.5677, -2.0467]], grad_fn=<CatBackward>)\n"
     ]
    }
   ],
   "source": [
    "rot_params = viewpoint(keypoints_scoremap, torch.Tensor([[0.0, 1.0]]))\n",
    "print('rot_params: {0}'.format(rot_params))"
   ]
  },
  {
   "cell_type": "markdown",
   "metadata": {},
   "source": [
    "## Convert ViewPoint output to transformation matrix\n",
    "\n",
    "The axis-angle parameters output by the ViewPoint network need to be converted to a transformation matrix."
   ]
  },
  {
   "cell_type": "code",
   "execution_count": 13,
   "metadata": {},
   "outputs": [
    {
     "name": "stdout",
     "output_type": "stream",
     "text": [
      "tensor([[[-0.1221,  0.5067,  0.8534],\n",
      "         [ 0.0053, -0.8595,  0.5111],\n",
      "         [ 0.9925,  0.0669,  0.1023]]], grad_fn=<StackBackward>)\n"
     ]
    }
   ],
   "source": [
    "rot_matrix = get_rotation_matrix(rot_params)\n",
    "print(rot_matrix)"
   ]
  },
  {
   "cell_type": "markdown",
   "metadata": {},
   "source": [
    "### Normalized 3D coordinates\n",
    "\n",
    "With the rotation matrices, the normalized 3D coordinates can be computed."
   ]
  },
  {
   "cell_type": "code",
   "execution_count": 14,
   "metadata": {},
   "outputs": [
    {
     "name": "stdout",
     "output_type": "stream",
     "text": [
      "torch.Size([1])\n",
      "torch.Size([1, 21, 3])\n",
      "torch.Size([1, 21, 3])\n",
      "tensor([[-0.0000, -0.0000, -0.0000],\n",
      "        [ 1.3883,  1.4099, -1.6416],\n",
      "        [ 1.2935,  0.7555, -1.2366],\n",
      "        [ 1.1185, -0.1174, -0.9433],\n",
      "        [ 0.6286, -0.7866, -0.1876],\n",
      "        [ 1.5271,  0.7604, -0.6979],\n",
      "        [ 1.3429,  1.2021, -0.9835],\n",
      "        [ 0.7942,  1.4860, -1.3151],\n",
      "        [ 0.2552,  0.8213, -1.2035],\n",
      "        [ 1.2286,  0.7417, -0.1346],\n",
      "        [ 1.1090,  1.3332, -0.3887],\n",
      "        [ 0.6693,  1.8026, -0.7567],\n",
      "        [-0.0072,  1.1806, -0.7020],\n",
      "        [ 0.8032,  0.6561,  0.3841],\n",
      "        [ 0.8241,  1.3045,  0.1622],\n",
      "        [ 0.4962,  1.7950, -0.1341],\n",
      "        [-0.1237,  1.2867, -0.1577],\n",
      "        [ 0.8167,  1.2663,  0.8381],\n",
      "        [ 0.7347,  1.6375,  0.6961],\n",
      "        [ 0.4527,  1.8784,  0.5354],\n",
      "        [-0.1412,  1.2914,  0.5246]], grad_fn=<SelectBackward>)\n"
     ]
    }
   ],
   "source": [
    "cond_right = torch.eq(torch.argmax(hand_side, 1), 1)\n",
    "cond_right_all = torch.reshape(cond_right, [-1, 1, 1]).repeat(1, 21, 3)\n",
    "coords_xyz_can_flip = flip_right_hand(keypoint_coord3d, cond_right_all)\n",
    "coords_xyz_rel_normed = coords_xyz_can_flip @ rot_matrix\n",
    "print(cond_right.shape)\n",
    "print(cond_right_all.shape)\n",
    "print(coords_xyz_can_flip.shape)\n",
    "\n",
    "print(coords_xyz_rel_normed[0])"
   ]
  },
  {
   "cell_type": "markdown",
   "metadata": {},
   "source": [
    "## Visualize the result\n",
    "\n",
    "Now that the 3D coordinates are calculated, the result can be visualized."
   ]
  },
  {
   "cell_type": "code",
   "execution_count": 15,
   "metadata": {},
   "outputs": [],
   "source": [
    "def plot_hand_3d(coords_xyz, axis, color_fixed=None, linewidth='1'):\n",
    "    \"\"\"Plots a hand stick figure into a matplotlib figure. \"\"\"\n",
    "    colors = np.array([[0., 0., 0.5],\n",
    "                       [0., 0., 0.73172906],\n",
    "                       [0., 0., 0.96345811],\n",
    "                       [0., 0.12745098, 1.],\n",
    "                       [0., 0.33137255, 1.],\n",
    "                       [0., 0.55098039, 1.],\n",
    "                       [0., 0.75490196, 1.],\n",
    "                       [0.06008855, 0.9745098, 0.90765338],\n",
    "                       [0.22454143, 1., 0.74320051],\n",
    "                       [0.40164453, 1., 0.56609741],\n",
    "                       [0.56609741, 1., 0.40164453],\n",
    "                       [0.74320051, 1., 0.22454143],\n",
    "                       [0.90765338, 1., 0.06008855],\n",
    "                       [1., 0.82861293, 0.],\n",
    "                       [1., 0.63979666, 0.],\n",
    "                       [1., 0.43645606, 0.],\n",
    "                       [1., 0.2476398, 0.],\n",
    "                       [0.96345811, 0.0442992, 0.],\n",
    "                       [0.73172906, 0., 0.],\n",
    "                       [0.5, 0., 0.]])\n",
    "\n",
    "    # define connections and colors of the bones\n",
    "    bones = [((0, 4), colors[0, :]),\n",
    "             ((4, 3), colors[1, :]),\n",
    "             ((3, 2), colors[2, :]),\n",
    "             ((2, 1), colors[3, :]),\n",
    "\n",
    "             ((0, 8), colors[4, :]),\n",
    "             ((8, 7), colors[5, :]),\n",
    "             ((7, 6), colors[6, :]),\n",
    "             ((6, 5), colors[7, :]),\n",
    "\n",
    "             ((0, 12), colors[8, :]),\n",
    "             ((12, 11), colors[9, :]),\n",
    "             ((11, 10), colors[10, :]),\n",
    "             ((10, 9), colors[11, :]),\n",
    "\n",
    "             ((0, 16), colors[12, :]),\n",
    "             ((16, 15), colors[13, :]),\n",
    "             ((15, 14), colors[14, :]),\n",
    "             ((14, 13), colors[15, :]),\n",
    "\n",
    "             ((0, 20), colors[16, :]),\n",
    "             ((20, 19), colors[17, :]),\n",
    "             ((19, 18), colors[18, :]),\n",
    "             ((18, 17), colors[19, :])]\n",
    "\n",
    "    for connection, color in bones:\n",
    "        coord1 = coords_xyz[connection[0], :]\n",
    "        coord2 = coords_xyz[connection[1], :]\n",
    "        coords = np.stack([coord1, coord2])\n",
    "        if color_fixed is None:\n",
    "            axis.plot(coords[:, 0], coords[:, 1], coords[:, 2], color=color, linewidth=linewidth)\n",
    "        else:\n",
    "            axis.plot(coords[:, 0], coords[:, 1], coords[:, 2], color_fixed, linewidth=linewidth)"
   ]
  },
  {
   "cell_type": "code",
   "execution_count": 16,
   "metadata": {},
   "outputs": [
    {
     "data": {
      "image/png": "[encoded data removed]",
      "text/plain": [
       "<Figure size 1152x1152 with 1 Axes>"
      ]
     },
     "metadata": {
      "needs_background": "light"
     },
     "output_type": "display_data"
    }
   ],
   "source": [
    "fig = plt.figure(1, figsize=(16, 16))\n",
    "ax1 = fig.add_subplot(111, projection='3d')\n",
    "keypoint_coords3d = coords_xyz_rel_normed.detach().numpy()\n",
    "keypoint_coords3d = keypoint_coords3d.squeeze()\n",
    "plot_hand_3d(keypoint_coords3d, ax1)\n",
    "ax1.view_init(azim=-90.0, elev=-90.0)\n",
    "ax1.set_xlim([-3, 3])\n",
    "ax1.set_ylim([-3, 1])\n",
    "ax1.set_zlim([-3, 3])\n",
    "plt.show()"
   ]
  }
 ],
 "metadata": {
  "kernelspec": {
   "display_name": "pytorch36",
   "language": "python",
   "name": "pytorch36"
  },
  "language_info": {
   "codemirror_mode": {
    "name": "ipython",
    "version": 3
   },
   "file_extension": ".py",
   "mimetype": "text/x-python",
   "name": "python",
   "nbconvert_exporter": "python",
   "pygments_lexer": "ipython3",
   "version": "3.6.6"
  }
 },
 "nbformat": 4,
 "nbformat_minor": 2
}

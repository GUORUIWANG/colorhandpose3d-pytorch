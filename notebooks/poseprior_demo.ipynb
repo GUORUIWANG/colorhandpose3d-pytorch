{
 "cells": [
  {
   "cell_type": "markdown",
   "metadata": {},
   "source": [
    "# PosePrior Demo\n",
    "\n",
    "This notebook contains code to convert `PosePrior` as implemented in \"Learning to Estimate 3D Hand Pose from Single RGB Images\" by Zimmerman et al. Their project is available at [https://github.com/lmb-freiburg/hand3d]."
   ]
  },
  {
   "cell_type": "code",
   "execution_count": 14,
   "metadata": {},
   "outputs": [],
   "source": [
    "import os\n",
    "import sys\n",
    "import math\n",
    "\n",
    "import torch\n",
    "import torchvision\n",
    "import torch.nn.functional as F\n",
    "import pickle\n",
    "import tensorflow as tf\n",
    "import matplotlib.pyplot as plt\n",
    "from mpl_toolkits.mplot3d import Axes3D\n",
    "from PIL import Image\n",
    "\n",
    "model_path = os.path.abspath(os.path.join('..'))\n",
    "if model_path not in sys.path:\n",
    "    sys.path.append(model_path)\n",
    "    \n",
    "from colorhandpose3d.model.HandSegNet import HandSegNet\n",
    "from colorhandpose3d.model.PoseNet import PoseNet\n",
    "from colorhandpose3d.model.PosePrior import PosePrior\n",
    "from colorhandpose3d.model.ViewPoint import ViewPoint\n",
    "from colorhandpose3d.utils.general import *"
   ]
  },
  {
   "cell_type": "markdown",
   "metadata": {},
   "source": [
    "## Initialize Models\n",
    "\n",
    "`PosePrior` depends on the output of `HandSegNet`+`PoseNet`. First define the required models."
   ]
  },
  {
   "cell_type": "code",
   "execution_count": 15,
   "metadata": {},
   "outputs": [],
   "source": [
    "handsegnet = HandSegNet()\n",
    "posenet = PoseNet()\n",
    "poseprior = PosePrior()\n",
    "\n",
    "handsegnet.load_state_dict(torch.load('/home/ajdillhoff/dev/projects/colorhandpose3d-pytorch/saved/handsegnet.pth.tar'))\n",
    "posenet.load_state_dict(torch.load('/home/ajdillhoff/dev/projects/colorhandpose3d-pytorch/saved/posenet.pth.tar'))"
   ]
  },
  {
   "cell_type": "markdown",
   "metadata": {},
   "source": [
    "## Import weights from Tensorflow model\n",
    "\n",
    "The weights are saved in `pickle` format from the Tensorflow model."
   ]
  },
  {
   "cell_type": "code",
   "execution_count": 16,
   "metadata": {},
   "outputs": [],
   "source": [
    "file_name = '/home/ajdillhoff/Downloads/ColorHandPose3D_data_v3/weights/posenet3d-rhd-stb-slr-finetuned.pickle'\n",
    "session = tf.Session()\n",
    "exclude_var_list = list()\n",
    "\n",
    "# read from pickle file\n",
    "with open(file_name, 'rb') as fi:\n",
    "    weight_dict = pickle.load(fi)\n",
    "    weight_dict = {k: v for k, v in weight_dict.items() if not any([x in k for x in exclude_var_list])}\n",
    "    \n",
    "keys = [k for k, v in weight_dict.items() if 'PosePrior' in k]\n",
    "keys.sort()\n",
    "\n",
    "# [print(k, weight_dict[k].shape) for k in keys]\n",
    "    \n",
    "for name, module in poseprior.named_children():\n",
    "    key = 'PosePrior/{0}/'.format(name)\n",
    "    if key + 'biases' in weight_dict:\n",
    "        b = torch.Tensor(weight_dict[key + 'biases'])\n",
    "        w = torch.Tensor(weight_dict[key + 'weights'])\n",
    "        if len(w.shape) == 4:\n",
    "            w = w.permute((3, 2, 1, 0))\n",
    "        else:\n",
    "            w = w.transpose(0, 1)\n",
    "        module.weight.data = w\n",
    "        module.bias.data = b\n",
    "        \n",
    "torch.save(poseprior.state_dict(), '/home/ajdillhoff/dev/projects/colorhandpose3d-pytorch/saved/poseprior.pth.tar')"
   ]
  },
  {
   "cell_type": "markdown",
   "metadata": {},
   "source": [
    "## Load and run sample\n",
    "\n",
    "Run a sample through the network."
   ]
  },
  {
   "cell_type": "code",
   "execution_count": 27,
   "metadata": {},
   "outputs": [],
   "source": [
    "transform0 = torchvision.transforms.ToPILImage()\n",
    "transform1 = torchvision.transforms.ToTensor()\n",
    "transform2 = torchvision.transforms.Resize(256)\n",
    "img = Image.open('/home/ajdillhoff/Downloads/RHD_v1-1/RHD_published_v2/training/color/00007.png')\n",
    "sample_original = transform1(transform2(img)).unsqueeze(0)\n",
    "sample = sample_original - 0.5\n",
    "\n",
    "# Run through network\n",
    "output = handsegnet.forward(sample)\n",
    "\n",
    "# Calculate single highest scoring object\n",
    "test_output = single_obj_scoremap(output, 21)\n",
    "\n",
    "# Crop and resize\n",
    "centers, bbs, crops = calc_center_bb(test_output)\n",
    "crops = crops.to(torch.float32)\n",
    "crop_size = 256\n",
    "\n",
    "crops[0] *= 1.25\n",
    "scale_crop = min(max(crop_size / crops[0], 0.25), 5.0)\n",
    "image_crop = crop_image_from_xy(sample_original, centers, crop_size, scale_crop)\n",
    "mask_crop = crop_image_from_xy(test_output, centers, crop_size, scale_crop)\n",
    "\n",
    "# also take a sample crop with mean subtracted\n",
    "sample_crop = crop_image_from_xy(sample, centers, crop_size, scale_crop)\n",
    "\n",
    "# PoseNet\n",
    "keypoints_scoremap = posenet(sample_crop)"
   ]
  },
  {
   "cell_type": "markdown",
   "metadata": {},
   "source": [
    "### PosePrior Network\n",
    "\n",
    "PosePrior takes as input the keypoints scoremap and outputs the coordinates in 3D space."
   ]
  },
  {
   "cell_type": "code",
   "execution_count": 38,
   "metadata": {},
   "outputs": [],
   "source": [
    "hand_side = torch.Tensor([[1, 0]])\n",
    "\n",
    "# PosePrior\n",
    "keypoint_coord3d = poseprior(keypoints_scoremap, hand_side)"
   ]
  },
  {
   "cell_type": "markdown",
   "metadata": {},
   "source": [
    "### Viewpoint network\n",
    "\n",
    "The final network in Zimmerman et al.'s approach estimates the rotation parameters to transform the canonical coordinates to real coordinates."
   ]
  },
  {
   "cell_type": "code",
   "execution_count": 29,
   "metadata": {},
   "outputs": [],
   "source": [
    "viewpoint = ViewPoint()"
   ]
  },
  {
   "cell_type": "code",
   "execution_count": 30,
   "metadata": {},
   "outputs": [],
   "source": [
    "file_name = '/home/ajdillhoff/Downloads/ColorHandPose3D_data_v3/weights/posenet3d-rhd-stb-slr-finetuned.pickle'\n",
    "session = tf.Session()\n",
    "exclude_var_list = list()\n",
    "\n",
    "# read from pickle file\n",
    "with open(file_name, 'rb') as fi:\n",
    "    weight_dict = pickle.load(fi)\n",
    "    weight_dict = {k: v for k, v in weight_dict.items() if not any([x in k for x in exclude_var_list])}\n",
    "    \n",
    "keys = [k for k, v in weight_dict.items() if 'ViewpointNet' in k]\n",
    "keys.sort()\n",
    "\n",
    "# [print(k, weight_dict[k].shape) for k in keys]\n",
    "    \n",
    "for name, module in viewpoint.named_children():\n",
    "    key = 'ViewpointNet/{0}/'.format(name)\n",
    "    if key + 'biases' in weight_dict:\n",
    "        b = torch.Tensor(weight_dict[key + 'biases'])\n",
    "        w = torch.Tensor(weight_dict[key + 'weights'])\n",
    "        if len(w.shape) == 4:\n",
    "            w = w.permute((3, 2, 1, 0))\n",
    "        else:\n",
    "            w = w.transpose(0, 1)\n",
    "        module.weight.data = w\n",
    "        module.bias.data = b\n",
    "        \n",
    "torch.save(viewpoint.state_dict(), '/home/ajdillhoff/dev/projects/colorhandpose3d-pytorch/saved/viewpoint.pth.tar')"
   ]
  },
  {
   "cell_type": "code",
   "execution_count": 31,
   "metadata": {},
   "outputs": [],
   "source": [
    "rot_params = viewpoint(keypoints_scoremap, hand_side)"
   ]
  },
  {
   "cell_type": "markdown",
   "metadata": {},
   "source": [
    "## Convert ViewPoint output to transformation matrix\n",
    "\n",
    "The axis-angle parameters output by the ViewPoint network need to be converted to a transformation matrix."
   ]
  },
  {
   "cell_type": "code",
   "execution_count": 32,
   "metadata": {},
   "outputs": [],
   "source": [
    "def get_rotation_matrix(rot_params):\n",
    "    \"\"\"Converts axis-angle parameters to a rotation matrix.\n",
    "    \n",
    "    The axis-angle parameters have an encoded angle.\n",
    "    \n",
    "    Args:\n",
    "        rot_params - Tensor (batch x 3): ux, uy, uz axis-angle parameters.\n",
    "        \n",
    "    Returns:\n",
    "        rot_matrix - Tensor (batch x 3 x 3): Rotation matrices.\n",
    "    \"\"\"\n",
    "    \n",
    "    theta = rot_params.norm(dim=1)\n",
    "    \n",
    "    st = torch.sin(theta)\n",
    "    ct = torch.cos(theta)\n",
    "    one_ct = 1.0 - torch.cos(theta)\n",
    "    \n",
    "    norm_fac = 1.0 / theta\n",
    "    ux = rot_params[:, 0] * norm_fac\n",
    "    uy = rot_params[:, 1] * norm_fac\n",
    "    uz = rot_params[:, 2] * norm_fac\n",
    "    \n",
    "    top = torch.stack((ct + ux * ux * one_ct, ux * uy * one_ct - uz * st, ux * uz * one_ct + uy * st), dim=1)\n",
    "    mid = torch.stack((uy * ux * one_ct + uz * st, ct + uy * uy * one_ct, uy * uz * one_ct - ux * st), dim=1)\n",
    "    bot = torch.stack((uz * ux * one_ct - uy * st, uz * uy * one_ct + ux * st, ct + uz * uz * one_ct), dim=1)\n",
    "    \n",
    "    rot_matrix = torch.stack((top, mid, bot), dim=1)\n",
    "    return rot_matrix\n",
    "\n",
    "\n",
    "def flip_right_hand(coords_xyz_canonical, cond_right):\n",
    "    \"\"\"Flips the given canonical coordinates, when cond_right is true.\n",
    "    \n",
    "    The returned coordinates represent those of the left hand.\n",
    "    \n",
    "    Args:\n",
    "        coords_xyz_canonical - Tensor (batch x 3 x num_keypoints): Coordinates for each keypoint.\n",
    "        cond_right - Tensor (batch x 3 x num_keypoints): Values are 0 or 1 depending on if the keypoints\n",
    "            represent the right hand.\n",
    "            \n",
    "    Returns:\n",
    "        coords_xyz_canonical_left - Tensor (batch x 3 x num_keypoints): Resulting coordinates. Remain\n",
    "            unchanged if cond_right is False.\n",
    "    \"\"\"\n",
    "    \n",
    "    s = coords_xyz_canonical.shape\n",
    "    assert len(s) == 3, \"coords_xyz_canonical must be (batch x 3 x num_keypoints).\"\n",
    "    assert len(cond_right.shape) == 3, \"cond_right must be (batch x 3 x num_keypoints).\"\n",
    "    \n",
    "    coords_xyz_canonical_mirrored = coords_xyz_canonical\n",
    "    coords_xyz_canonical_mirrored[:, :, 2] *= -1.\n",
    "    \n",
    "    coords_xyz_canonical_left = torch.where(cond_right, coords_xyz_canonical_mirrored, coords_xyz_canonical)\n",
    "    \n",
    "    return coords_xyz_canonical_left"
   ]
  },
  {
   "cell_type": "code",
   "execution_count": 33,
   "metadata": {},
   "outputs": [],
   "source": [
    "rot_matrix = get_rotation_matrix(rot_params)"
   ]
  },
  {
   "cell_type": "markdown",
   "metadata": {},
   "source": [
    "### Normalized 3D coordinates\n",
    "\n",
    "With the rotation matrices, the normalized 3D coordinates can be computed."
   ]
  },
  {
   "cell_type": "code",
   "execution_count": 42,
   "metadata": {},
   "outputs": [],
   "source": [
    "cond_right = torch.eq(torch.argmax(hand_side, 1), 1)\n",
    "cond_right_all = torch.reshape(cond_right, [-1, 1, 1]).repeat(1, 21, 3)\n",
    "coords_xyz_can_flip = flip_right_hand(keypoint_coord3d, cond_right_all)\n",
    "coords_xyz_rel_normed = coords_xyz_can_flip @ rot_matrix"
   ]
  },
  {
   "cell_type": "markdown",
   "metadata": {},
   "source": [
    "## Visualize the result\n",
    "\n",
    "Now that the 3D coordinates are calculated, the result can be visualized."
   ]
  },
  {
   "cell_type": "code",
   "execution_count": 35,
   "metadata": {},
   "outputs": [],
   "source": [
    "def plot_hand_3d(coords_xyz, axis, color_fixed=None, linewidth='1'):\n",
    "    \"\"\"Plots a hand stick figure into a matplotlib figure. \"\"\"\n",
    "    colors = np.array([[0., 0., 0.5],\n",
    "                       [0., 0., 0.73172906],\n",
    "                       [0., 0., 0.96345811],\n",
    "                       [0., 0.12745098, 1.],\n",
    "                       [0., 0.33137255, 1.],\n",
    "                       [0., 0.55098039, 1.],\n",
    "                       [0., 0.75490196, 1.],\n",
    "                       [0.06008855, 0.9745098, 0.90765338],\n",
    "                       [0.22454143, 1., 0.74320051],\n",
    "                       [0.40164453, 1., 0.56609741],\n",
    "                       [0.56609741, 1., 0.40164453],\n",
    "                       [0.74320051, 1., 0.22454143],\n",
    "                       [0.90765338, 1., 0.06008855],\n",
    "                       [1., 0.82861293, 0.],\n",
    "                       [1., 0.63979666, 0.],\n",
    "                       [1., 0.43645606, 0.],\n",
    "                       [1., 0.2476398, 0.],\n",
    "                       [0.96345811, 0.0442992, 0.],\n",
    "                       [0.73172906, 0., 0.],\n",
    "                       [0.5, 0., 0.]])\n",
    "\n",
    "    # define connections and colors of the bones\n",
    "    bones = [((0, 4), colors[0, :]),\n",
    "             ((4, 3), colors[1, :]),\n",
    "             ((3, 2), colors[2, :]),\n",
    "             ((2, 1), colors[3, :]),\n",
    "\n",
    "             ((0, 8), colors[4, :]),\n",
    "             ((8, 7), colors[5, :]),\n",
    "             ((7, 6), colors[6, :]),\n",
    "             ((6, 5), colors[7, :]),\n",
    "\n",
    "             ((0, 12), colors[8, :]),\n",
    "             ((12, 11), colors[9, :]),\n",
    "             ((11, 10), colors[10, :]),\n",
    "             ((10, 9), colors[11, :]),\n",
    "\n",
    "             ((0, 16), colors[12, :]),\n",
    "             ((16, 15), colors[13, :]),\n",
    "             ((15, 14), colors[14, :]),\n",
    "             ((14, 13), colors[15, :]),\n",
    "\n",
    "             ((0, 20), colors[16, :]),\n",
    "             ((20, 19), colors[17, :]),\n",
    "             ((19, 18), colors[18, :]),\n",
    "             ((18, 17), colors[19, :])]\n",
    "\n",
    "    for connection, color in bones:\n",
    "        coord1 = coords_xyz[connection[0], :]\n",
    "        coord2 = coords_xyz[connection[1], :]\n",
    "        coords = np.stack([coord1, coord2])\n",
    "        if color_fixed is None:\n",
    "            axis.plot(coords[:, 0], coords[:, 1], coords[:, 2], color=color, linewidth=linewidth)\n",
    "        else:\n",
    "            axis.plot(coords[:, 0], coords[:, 1], coords[:, 2], color_fixed, linewidth=linewidth)\n",
    "\n",
    "    axis.view_init(azim=-90., elev=90.)"
   ]
  },
  {
   "cell_type": "code",
   "execution_count": 41,
   "metadata": {},
   "outputs": [
    {
     "data": {
      "image/png": "[encoded data removed]",
      "text/plain": [
       "<Figure size 1152x1152 with 1 Axes>"
      ]
     },
     "metadata": {},
     "output_type": "display_data"
    }
   ],
   "source": [
    "fig = plt.figure(1, figsize=(16, 16))\n",
    "ax1 = fig.add_subplot(111, projection='3d')\n",
    "keypoint_coords3d = coords_xyz_rel_normed.detach().numpy()\n",
    "keypoint_coords3d = keypoint_coords3d.squeeze()\n",
    "plot_hand_3d(keypoint_coord3d.detach().numpy().squeeze(), ax1)\n",
    "ax1.view_init(azim=-90.0, elev=-90.0)\n",
    "# ax1.set_xlim([-3, 3])\n",
    "# ax1.set_ylim([-3, 1])\n",
    "# ax1.set_zlim([-3, 3])\n",
    "plt.show()"
   ]
  }
 ],
 "metadata": {
  "kernelspec": {
   "display_name": "Python [conda env:pytorch36]",
   "language": "python",
   "name": "conda-env-pytorch36-py"
  },
  "language_info": {
   "codemirror_mode": {
    "name": "ipython",
    "version": 3
   },
   "file_extension": ".py",
   "mimetype": "text/x-python",
   "name": "python",
   "nbconvert_exporter": "python",
   "pygments_lexer": "ipython3",
   "version": "3.6.6"
  }
 },
 "nbformat": 4,
 "nbformat_minor": 2
}
